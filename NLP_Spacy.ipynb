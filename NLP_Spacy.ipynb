{
 "cells": [
  {
   "cell_type": "code",
   "execution_count": 1,
   "id": "f12fb2ca-1c7a-4236-9bd2-cc4c66f57f4b",
   "metadata": {},
   "outputs": [],
   "source": [
    "import spacy"
   ]
  },
  {
   "cell_type": "code",
   "execution_count": 2,
   "id": "2201f229-b088-4fb0-b83a-52301df141bc",
   "metadata": {},
   "outputs": [],
   "source": [
    "nlp = spacy.load('pt_core_news_lg')"
   ]
  },
  {
   "cell_type": "code",
   "execution_count": 3,
   "id": "6a81c206-8c02-4e8c-9301-1a479b656a76",
   "metadata": {},
   "outputs": [
    {
     "name": "stdout",
     "output_type": "stream",
     "text": [
      "<class 'spacy.lang.pt.Portuguese'>\n"
     ]
    }
   ],
   "source": [
    "print(type(nlp))"
   ]
  },
  {
   "cell_type": "code",
   "execution_count": 4,
   "id": "e34f8a9c-58c7-4a43-99c7-c320dbe697ce",
   "metadata": {},
   "outputs": [
    {
     "name": "stdout",
     "output_type": "stream",
     "text": [
      "['tok2vec', 'morphologizer', 'parser', 'lemmatizer', 'attribute_ruler', 'ner']\n"
     ]
    }
   ],
   "source": [
    "print(nlp.pipe_names)"
   ]
  },
  {
   "cell_type": "code",
   "execution_count": 5,
   "id": "dba239db-97ff-4f15-9935-ee323f3ded83",
   "metadata": {},
   "outputs": [],
   "source": [
    "documento = nlp('As ações da Magazine Luiza S.A., França, Brasil acumularam baixa de 70% ao ano. Assim já devolveram todos os ganhos do periodo da pandemia')"
   ]
  },
  {
   "cell_type": "code",
   "execution_count": 6,
   "id": "75d38300-4bf1-4c5b-875a-107e837a5f7f",
   "metadata": {},
   "outputs": [
    {
     "data": {
      "text/plain": [
       "375"
      ]
     },
     "execution_count": 6,
     "metadata": {},
     "output_type": "execute_result"
    }
   ],
   "source": [
    "len(documento.vocab)"
   ]
  },
  {
   "cell_type": "code",
   "execution_count": 16,
   "id": "04add1d1-f1fc-49b9-807b-465d0ef26f9e",
   "metadata": {},
   "outputs": [
    {
     "name": "stdout",
     "output_type": "stream",
     "text": [
      "As\n",
      "ações\n",
      "da\n",
      "Magazine\n",
      "Luiza\n",
      "S.A.\n",
      ",\n",
      "França\n",
      ",\n",
      "Brasil\n",
      "acumularam\n",
      "baixa\n",
      "de\n",
      "70\n",
      "%\n",
      "ao\n",
      "ano\n",
      ".\n",
      "Assim\n",
      "já\n",
      "devolveram\n",
      "todos\n",
      "os\n",
      "ganhos\n",
      "do\n",
      "periodo\n",
      "da\n",
      "pandemia\n"
     ]
    }
   ],
   "source": [
    "for token in documento:  #percorre todos os tokens que estão no documento\n",
    "    print(token.text)    #imprime as palavras que os token indicam"
   ]
  },
  {
   "cell_type": "code",
   "execution_count": 8,
   "id": "48983481-1e59-4ba7-a24c-8fc5b641e62a",
   "metadata": {},
   "outputs": [
    {
     "name": "stdout",
     "output_type": "stream",
     "text": [
      "Magazine\n"
     ]
    }
   ],
   "source": [
    "print(documento[3])"
   ]
  },
  {
   "cell_type": "code",
   "execution_count": 9,
   "id": "fa6e9351-5790-4cc5-9894-17f8bc2ba853",
   "metadata": {},
   "outputs": [
    {
     "name": "stdout",
     "output_type": "stream",
     "text": [
      "Magazine Luiza\n"
     ]
    }
   ],
   "source": [
    "print(documento[3:5])"
   ]
  },
  {
   "cell_type": "code",
   "execution_count": 10,
   "id": "7df53d7b-2ade-4819-9840-d7a4bc38058f",
   "metadata": {},
   "outputs": [
    {
     "name": "stdout",
     "output_type": "stream",
     "text": [
      "28\n"
     ]
    }
   ],
   "source": [
    "print(len(documento))"
   ]
  },
  {
   "cell_type": "code",
   "execution_count": 14,
   "id": "1fe6d559-de5d-45e5-8211-1eee71de4d61",
   "metadata": {},
   "outputs": [
    {
     "name": "stdout",
     "output_type": "stream",
     "text": [
      "Tokens:  ['As', 'ações', 'da', 'Magazine', 'Luiza', 'S.A.', ',', 'França', ',', 'Brasil', 'acumularam', 'baixa', 'de', '70', '%', 'ao', 'ano', '.', 'Assim', 'já', 'devolveram', 'todos', 'os', 'ganhos', 'do', 'periodo', 'da', 'pandemia']\n",
      "Stop Words:  [True, False, True, False, False, False, False, False, False, False, False, False, True, False, False, True, False, False, True, True, False, True, True, False, True, False, True, False]\n",
      "Alfanumerio:  [True, True, True, True, True, False, False, True, False, True, True, True, True, False, False, True, True, False, True, True, True, True, True, True, True, True, True, True]\n",
      "Maiuscula:  [False, False, False, False, False, True, False, False, False, False, False, False, False, False, False, False, False, False, False, False, False, False, False, False, False, False, False, False]\n",
      "Pontuação:  [False, False, False, False, False, False, True, False, True, False, False, False, False, False, True, False, False, True, False, False, False, False, False, False, False, False, False, False]\n",
      "Número:  [False, False, False, False, False, False, False, False, False, False, False, False, False, True, False, False, False, False, False, False, False, False, False, False, False, False, False, False]\n",
      "Sentença Inicial:  [True, False, False, False, False, False, False, False, False, False, False, False, False, False, False, False, False, False, True, False, False, False, False, False, False, False, False, False]\n"
     ]
    }
   ],
   "source": [
    "print(\"Tokens: \",[token.text for token in documento])\n",
    "print(\"Stop Words: \",[token.is_stop for token in documento])\n",
    "print(\"Alfanumerio: \",[token.is_alpha for token in documento])\n",
    "print(\"Maiuscula: \",[token.is_upper for token in documento])\n",
    "print(\"Pontuação: \",[token.is_punct for token in documento])\n",
    "print(\"Número: \",[token.like_num for token in documento])\n",
    "print(\"Sentença Inicial: \",[token.is_sent_start for token in documento])"
   ]
  },
  {
   "cell_type": "code",
   "execution_count": 17,
   "id": "a8a7344f-6b49-42e6-8f32-d28fdeee2689",
   "metadata": {},
   "outputs": [
    {
     "name": "stdout",
     "output_type": "stream",
     "text": [
      "Tokens:  ['As', 'ações', 'da', 'Magazine', 'Luiza', 'S.A.', ',', 'França', ',', 'Brasil', 'acumularam', 'baixa', 'de', '70', '%', 'ao', 'ano', '.', 'Assim', 'já', 'devolveram', 'todos', 'os', 'ganhos', 'do', 'periodo', 'da', 'pandemia']\n",
      "Tokens:  ['Xx', 'xxxx', 'xx', 'Xxxxx', 'Xxxxx', 'X.X.', ',', 'Xxxxx', ',', 'Xxxxx', 'xxxx', 'xxxx', 'xx', 'dd', '%', 'xx', 'xxx', '.', 'Xxxxx', 'xx', 'xxxx', 'xxxx', 'xx', 'xxxx', 'xx', 'xxxx', 'xx', 'xxxx']\n"
     ]
    }
   ],
   "source": [
    "print(\"Tokens: \",[token.text for token in documento])\n",
    "print(\"Tokens: \",[token.shape_ for token in documento]) #mostra o formato das palavras dos tokens"
   ]
  },
  {
   "cell_type": "code",
   "execution_count": 19,
   "id": "09814775-daa2-40c9-a6c9-355db4d5a36d",
   "metadata": {},
   "outputs": [
    {
     "name": "stdout",
     "output_type": "stream",
     "text": [
      "Puntuação encontrada: ,\n",
      "Puntuação encontrada: ,\n",
      "Número encontrado: 70\n",
      "Puntuação encontrada: %\n",
      "Puntuação encontrada: .\n"
     ]
    }
   ],
   "source": [
    "for token in documento:\n",
    "    if token.like_num:\n",
    "        print(\"Número encontrado:\",token.text)\n",
    "    if token.is_punct:\n",
    "        print(\"Puntuação encontrada:\",token.text)"
   ]
  },
  {
   "cell_type": "code",
   "execution_count": null,
   "id": "93675ce5-cf6e-4c6e-a3d2-55abc5e823f6",
   "metadata": {},
   "outputs": [],
   "source": []
  }
 ],
 "metadata": {
  "kernelspec": {
   "display_name": "Python 3 (ipykernel)",
   "language": "python",
   "name": "python3"
  },
  "language_info": {
   "codemirror_mode": {
    "name": "ipython",
    "version": 3
   },
   "file_extension": ".py",
   "mimetype": "text/x-python",
   "name": "python",
   "nbconvert_exporter": "python",
   "pygments_lexer": "ipython3",
   "version": "3.11.9"
  }
 },
 "nbformat": 4,
 "nbformat_minor": 5
}

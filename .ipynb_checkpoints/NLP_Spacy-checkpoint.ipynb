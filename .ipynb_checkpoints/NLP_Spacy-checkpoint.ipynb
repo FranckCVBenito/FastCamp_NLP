{
 "cells": [
  {
   "cell_type": "code",
   "execution_count": 1,
   "id": "f12fb2ca-1c7a-4236-9bd2-cc4c66f57f4b",
   "metadata": {},
   "outputs": [],
   "source": [
    "import spacy"
   ]
  },
  {
   "cell_type": "code",
   "execution_count": 2,
   "id": "2201f229-b088-4fb0-b83a-52301df141bc",
   "metadata": {},
   "outputs": [],
   "source": [
    "nlp = spacy.load('pt_core_news_lg')"
   ]
  },
  {
   "cell_type": "code",
   "execution_count": 3,
   "id": "6a81c206-8c02-4e8c-9301-1a479b656a76",
   "metadata": {},
   "outputs": [
    {
     "name": "stdout",
     "output_type": "stream",
     "text": [
      "<class 'spacy.lang.pt.Portuguese'>\n"
     ]
    }
   ],
   "source": [
    "print(type(nlp))"
   ]
  },
  {
   "cell_type": "code",
   "execution_count": 4,
   "id": "e34f8a9c-58c7-4a43-99c7-c320dbe697ce",
   "metadata": {},
   "outputs": [
    {
     "name": "stdout",
     "output_type": "stream",
     "text": [
      "['tok2vec', 'morphologizer', 'parser', 'lemmatizer', 'attribute_ruler', 'ner']\n"
     ]
    }
   ],
   "source": [
    "print(nlp.pipe_names)"
   ]
  },
  {
   "cell_type": "code",
   "execution_count": 5,
   "id": "dba239db-97ff-4f15-9935-ee323f3ded83",
   "metadata": {},
   "outputs": [],
   "source": [
    "documento = nlp('As ações da Magazine Luiza S.A., França, Brasil acumularam baixa de 70% ao ano. Assim já devolveram todos os ganhos do periodo da pandemia')"
   ]
  },
  {
   "cell_type": "code",
   "execution_count": 6,
   "id": "75d38300-4bf1-4c5b-875a-107e837a5f7f",
   "metadata": {},
   "outputs": [
    {
     "data": {
      "text/plain": [
       "375"
      ]
     },
     "execution_count": 6,
     "metadata": {},
     "output_type": "execute_result"
    }
   ],
   "source": [
    "len(documento.vocab)"
   ]
  },
  {
   "cell_type": "code",
   "execution_count": 7,
   "id": "04add1d1-f1fc-49b9-807b-465d0ef26f9e",
   "metadata": {},
   "outputs": [
    {
     "name": "stdout",
     "output_type": "stream",
     "text": [
      "As\n",
      "ações\n",
      "da\n",
      "Magazine\n",
      "Luiza\n",
      "S.A.\n",
      ",\n",
      "França\n",
      ",\n",
      "Brasil\n",
      "acumularam\n",
      "baixa\n",
      "de\n",
      "70\n",
      "%\n",
      "ao\n",
      "ano\n",
      ".\n",
      "Assim\n",
      "já\n",
      "devolveram\n",
      "todos\n",
      "os\n",
      "ganhos\n",
      "do\n",
      "periodo\n",
      "da\n",
      "pandemia\n"
     ]
    }
   ],
   "source": [
    "for token in documento:  #percorre todos os tokens que estão no documento\n",
    "    print(token.text)    #imprime as palavras que os token indicam"
   ]
  },
  {
   "cell_type": "code",
   "execution_count": 8,
   "id": "48983481-1e59-4ba7-a24c-8fc5b641e62a",
   "metadata": {},
   "outputs": [
    {
     "name": "stdout",
     "output_type": "stream",
     "text": [
      "Magazine\n"
     ]
    }
   ],
   "source": [
    "print(documento[3])"
   ]
  },
  {
   "cell_type": "code",
   "execution_count": 9,
   "id": "fa6e9351-5790-4cc5-9894-17f8bc2ba853",
   "metadata": {},
   "outputs": [
    {
     "name": "stdout",
     "output_type": "stream",
     "text": [
      "Magazine Luiza\n"
     ]
    }
   ],
   "source": [
    "print(documento[3:5])"
   ]
  },
  {
   "cell_type": "code",
   "execution_count": 10,
   "id": "7df53d7b-2ade-4819-9840-d7a4bc38058f",
   "metadata": {},
   "outputs": [
    {
     "name": "stdout",
     "output_type": "stream",
     "text": [
      "28\n"
     ]
    }
   ],
   "source": [
    "print(len(documento))"
   ]
  },
  {
   "cell_type": "code",
   "execution_count": 11,
   "id": "1fe6d559-de5d-45e5-8211-1eee71de4d61",
   "metadata": {},
   "outputs": [
    {
     "name": "stdout",
     "output_type": "stream",
     "text": [
      "Tokens:  ['As', 'ações', 'da', 'Magazine', 'Luiza', 'S.A.', ',', 'França', ',', 'Brasil', 'acumularam', 'baixa', 'de', '70', '%', 'ao', 'ano', '.', 'Assim', 'já', 'devolveram', 'todos', 'os', 'ganhos', 'do', 'periodo', 'da', 'pandemia']\n",
      "Stop Words:  [True, False, True, False, False, False, False, False, False, False, False, False, True, False, False, True, False, False, True, True, False, True, True, False, True, False, True, False]\n",
      "Alfanumerio:  [True, True, True, True, True, False, False, True, False, True, True, True, True, False, False, True, True, False, True, True, True, True, True, True, True, True, True, True]\n",
      "Maiuscula:  [False, False, False, False, False, True, False, False, False, False, False, False, False, False, False, False, False, False, False, False, False, False, False, False, False, False, False, False]\n",
      "Pontuação:  [False, False, False, False, False, False, True, False, True, False, False, False, False, False, True, False, False, True, False, False, False, False, False, False, False, False, False, False]\n",
      "Número:  [False, False, False, False, False, False, False, False, False, False, False, False, False, True, False, False, False, False, False, False, False, False, False, False, False, False, False, False]\n",
      "Sentença Inicial:  [True, False, False, False, False, False, False, False, False, False, False, False, False, False, False, False, False, False, True, False, False, False, False, False, False, False, False, False]\n"
     ]
    }
   ],
   "source": [
    "print(\"Tokens: \",[token.text for token in documento])\n",
    "print(\"Stop Words: \",[token.is_stop for token in documento])\n",
    "print(\"Alfanumerio: \",[token.is_alpha for token in documento])\n",
    "print(\"Maiuscula: \",[token.is_upper for token in documento])\n",
    "print(\"Pontuação: \",[token.is_punct for token in documento])\n",
    "print(\"Número: \",[token.like_num for token in documento])\n",
    "print(\"Sentença Inicial: \",[token.is_sent_start for token in documento])"
   ]
  },
  {
   "cell_type": "code",
   "execution_count": 12,
   "id": "a8a7344f-6b49-42e6-8f32-d28fdeee2689",
   "metadata": {},
   "outputs": [
    {
     "name": "stdout",
     "output_type": "stream",
     "text": [
      "Tokens:  ['As', 'ações', 'da', 'Magazine', 'Luiza', 'S.A.', ',', 'França', ',', 'Brasil', 'acumularam', 'baixa', 'de', '70', '%', 'ao', 'ano', '.', 'Assim', 'já', 'devolveram', 'todos', 'os', 'ganhos', 'do', 'periodo', 'da', 'pandemia']\n",
      "Tokens:  ['Xx', 'xxxx', 'xx', 'Xxxxx', 'Xxxxx', 'X.X.', ',', 'Xxxxx', ',', 'Xxxxx', 'xxxx', 'xxxx', 'xx', 'dd', '%', 'xx', 'xxx', '.', 'Xxxxx', 'xx', 'xxxx', 'xxxx', 'xx', 'xxxx', 'xx', 'xxxx', 'xx', 'xxxx']\n"
     ]
    }
   ],
   "source": [
    "print(\"Tokens: \",[token.text for token in documento])\n",
    "print(\"Tokens: \",[token.shape_ for token in documento]) #mostra o formato das palavras dos tokens"
   ]
  },
  {
   "cell_type": "code",
   "execution_count": 13,
   "id": "09814775-daa2-40c9-a6c9-355db4d5a36d",
   "metadata": {},
   "outputs": [
    {
     "name": "stdout",
     "output_type": "stream",
     "text": [
      "Puntuação encontrada: ,\n",
      "Puntuação encontrada: ,\n",
      "Número encontrado: 70\n",
      "Puntuação encontrada: %\n",
      "Puntuação encontrada: .\n"
     ]
    }
   ],
   "source": [
    "for token in documento:\n",
    "    if token.like_num:\n",
    "        print(\"Número encontrado:\",token.text)\n",
    "    if token.is_punct:\n",
    "        print(\"Puntuação encontrada:\",token.text)"
   ]
  },
  {
   "cell_type": "code",
   "execution_count": 14,
   "id": "93675ce5-cf6e-4c6e-a3d2-55abc5e823f6",
   "metadata": {},
   "outputs": [
    {
     "name": "stdout",
     "output_type": "stream",
     "text": [
      "As - DET - det - o Xx\n",
      "ações - NOUN - nsubj - ação xxxx\n",
      "da - ADP - case - de o xx\n",
      "Magazine - PROPN - nmod - Magazine Xxxxx\n",
      "Luiza - PROPN - appos - Luiza Xxxxx\n",
      "S.A. - PROPN - flat:name - S.A. X.X.\n",
      ", - PUNCT - punct - , ,\n",
      "França - PROPN - conj - França Xxxxx\n",
      ", - PUNCT - punct - , ,\n",
      "Brasil - PROPN - nsubj - Brasil Xxxxx\n",
      "acumularam - VERB - ROOT - acumular xxxx\n",
      "baixa - NOUN - obj - baixa xxxx\n",
      "de - ADP - case - de xx\n",
      "70 - NUM - nummod - 70 dd\n",
      "% - SYM - nmod - % %\n",
      "ao - ADP - case - a o xx\n",
      "ano - NOUN - nmod - ano xxx\n",
      ". - PUNCT - punct - . .\n",
      "Assim - ADV - advmod - assim Xxxxx\n",
      "já - ADV - advmod - já xx\n",
      "devolveram - VERB - ROOT - devolver xxxx\n",
      "todos - DET - det - todo xxxx\n",
      "os - DET - det - o xx\n",
      "ganhos - NOUN - obj - ganho xxxx\n",
      "do - ADP - case - de o xx\n",
      "periodo - NOUN - nmod - periodo xxxx\n",
      "da - ADP - case - de o xx\n",
      "pandemia - NOUN - nmod - pandemia xxxx\n"
     ]
    }
   ],
   "source": [
    "for token in documento:\n",
    "    print(token.text, \"-\", token.pos_, \"-\", token.dep_,\"-\", token.lemma_, token.shape_) #utiliza o undeline para mostrar o texto"
   ]
  },
  {
   "cell_type": "code",
   "execution_count": 15,
   "id": "717e25f8-1422-42d3-a431-f2672d2813b6",
   "metadata": {},
   "outputs": [
    {
     "name": "stdout",
     "output_type": "stream",
     "text": [
      "As - Definite=Def|Gender=Fem|Number=Plur|PronType=Art\n",
      "ações - Gender=Fem|Number=Plur\n",
      "da - Definite=Def|Gender=Fem|Number=Sing|PronType=Art\n",
      "Magazine - Gender=Fem|Number=Sing\n",
      "Luiza - Gender=Fem|Number=Sing\n",
      "S.A. - Number=Sing\n",
      ", - \n",
      "França - Gender=Fem|Number=Sing\n",
      ", - \n",
      "Brasil - Gender=Masc|Number=Sing\n",
      "acumularam - Mood=Ind|Number=Plur|Person=3|Tense=Past|VerbForm=Fin\n",
      "baixa - Gender=Fem|Number=Sing\n",
      "de - \n",
      "70 - NumType=Card\n",
      "% - \n",
      "ao - Definite=Def|Gender=Masc|Number=Sing|PronType=Art\n",
      "ano - Gender=Masc|Number=Sing\n",
      ". - \n",
      "Assim - \n",
      "já - \n",
      "devolveram - Mood=Ind|Number=Plur|Person=3|Tense=Past|VerbForm=Fin\n",
      "todos - Gender=Masc|Number=Plur|PronType=Tot\n",
      "os - Definite=Def|Gender=Masc|Number=Plur|PronType=Art\n",
      "ganhos - Gender=Masc|Number=Plur\n",
      "do - Definite=Def|Gender=Masc|Number=Sing|PronType=Art\n",
      "periodo - Gender=Masc|Number=Sing\n",
      "da - Definite=Def|Gender=Fem|Number=Sing|PronType=Art\n",
      "pandemia - Gender=Fem|Number=Sing\n"
     ]
    }
   ],
   "source": [
    "for token in documento:\n",
    "    print(token.text,\"-\",token.morph) #apresenta uma descrição morfologica das palavras"
   ]
  },
  {
   "cell_type": "code",
   "execution_count": 16,
   "id": "2d5bf501-64bf-4f65-8685-86bf67711555",
   "metadata": {},
   "outputs": [
    {
     "name": "stdout",
     "output_type": "stream",
     "text": [
      "As - DET\n",
      "ações - NOUN\n",
      "da - ADP\n",
      "Magazine - PROPN\n",
      "Luiza - PROPN\n",
      "S.A. - PROPN\n",
      ", - PUNCT\n",
      "França - PROPN\n",
      ", - PUNCT\n",
      "Brasil - PROPN\n",
      "acumularam - VERB\n",
      "baixa - NOUN\n",
      "de - ADP\n",
      "70 - NUM\n",
      "% - SYM\n",
      "ao - ADP\n",
      "ano - NOUN\n",
      ". - PUNCT\n",
      "Assim - ADV\n",
      "já - ADV\n",
      "devolveram - VERB\n",
      "todos - DET\n",
      "os - DET\n",
      "ganhos - NOUN\n",
      "do - ADP\n",
      "periodo - NOUN\n",
      "da - ADP\n",
      "pandemia - NOUN\n"
     ]
    }
   ],
   "source": [
    "for token in documento:\n",
    "    print(token.text,\"-\",token.tag_)"
   ]
  },
  {
   "cell_type": "code",
   "execution_count": 17,
   "id": "1ed4b047-ebbf-4442-aca8-1cd9ca4369c3",
   "metadata": {},
   "outputs": [
    {
     "name": "stdout",
     "output_type": "stream",
     "text": [
      "Magazine Luiza S.A. - ORG\n",
      "França - LOC\n",
      "Brasil - LOC\n"
     ]
    }
   ],
   "source": [
    "for ent in documento.ents:\n",
    "    print(ent.text,\"-\",ent.label_)"
   ]
  },
  {
   "cell_type": "code",
   "execution_count": 18,
   "id": "1cf2a928-f74d-4d05-8963-1ab2ccf69f0b",
   "metadata": {},
   "outputs": [
    {
     "name": "stdout",
     "output_type": "stream",
     "text": [
      "Stop Words:  As\n",
      "Stop Words:  da\n",
      "Stop Words:  de\n",
      "Stop Words:  ao\n",
      "Stop Words:  Assim\n",
      "Stop Words:  já\n",
      "Stop Words:  todos\n",
      "Stop Words:  os\n",
      "Stop Words:  do\n",
      "Stop Words:  da\n"
     ]
    }
   ],
   "source": [
    "for token in documento:\n",
    "    if token.is_stop:\n",
    "        print(\"Stop Words: \",token.text)"
   ]
  },
  {
   "cell_type": "code",
   "execution_count": 19,
   "id": "65315315-042b-4d91-a7cd-f6e87c0b923c",
   "metadata": {},
   "outputs": [
    {
     "name": "stdout",
     "output_type": "stream",
     "text": [
      "és\n",
      "iniciar\n",
      "vossos\n",
      "somos\n",
      "naquele\n",
      "tanta\n",
      "aquela\n",
      "agora\n",
      "conselho\n",
      "grande\n",
      "sabe\n",
      "certeza\n",
      "breve\n",
      "você\n",
      "adeus\n",
      "vossa\n",
      "fez\n",
      "mal\n",
      "relação\n",
      "mês\n",
      "vem\n",
      "vindo\n",
      "assim\n",
      "tarde\n",
      "tendes\n",
      "obrigado\n",
      "aquelas\n",
      "final\n",
      "maior\n",
      "nossas\n",
      "estão\n",
      "direita\n",
      "vos\n",
      "têm\n",
      "inicio\n",
      "estava\n",
      "quatro\n",
      "tivemos\n",
      "eles\n",
      "tipo\n",
      "meus\n",
      "seu\n",
      "não\n",
      "à\n",
      "ter\n",
      "estivestes\n",
      "tens\n",
      "pontos\n",
      "sob\n",
      "dos\n",
      "por\n",
      "tal\n",
      "entre\n",
      "partir\n",
      "são\n",
      "cedo\n",
      "lado\n",
      "três\n",
      "momento\n",
      "ver\n",
      "quais\n",
      "lá\n",
      "pelos\n",
      "nova\n",
      "quê\n",
      "outros\n",
      "lugar\n",
      "porquanto\n",
      "sétima\n",
      "se\n",
      "então\n",
      "catorze\n",
      "dezasseis\n",
      "querem\n",
      "e\n",
      "fazemos\n",
      "quieta\n",
      "pôde\n",
      "cinco\n",
      "diante\n",
      "estiveste\n",
      "vós\n",
      "aquilo\n",
      "nesse\n",
      "dessa\n",
      "portanto\n",
      "terceiro\n",
      "muito\n",
      "vens\n",
      "ali\n",
      "tanto\n",
      "tente\n",
      "cada\n",
      "local\n",
      "isso\n",
      "estes\n",
      "primeira\n",
      "vosso\n",
      "suas\n",
      "toda\n",
      "baixo\n",
      "fui\n",
      "quinze\n",
      "qual\n",
      "contudo\n",
      "perto\n",
      "fazer\n",
      "esse\n",
      "aqui\n",
      "ir\n",
      "obrigada\n",
      "uma\n",
      "vai\n",
      "seis\n",
      "daquela\n",
      "pouca\n",
      "nuns\n",
      "sim\n",
      "quarta\n",
      "seria\n",
      "meses\n",
      "tiveste\n",
      "segundo\n",
      "onde\n",
      "tuas\n",
      "sempre\n",
      "ambos\n",
      "fostes\n",
      "nunca\n",
      "estar\n",
      "comprida\n",
      "aquele\n",
      "maiorias\n",
      "desde\n",
      "parece\n",
      "atrás\n",
      "corrente\n",
      "dizer\n",
      "dois\n",
      "quer\n",
      "nesta\n",
      "qualquer\n",
      "até\n",
      "saber\n",
      "novos\n",
      "algumas\n",
      "tua\n",
      "deste\n",
      "embora\n",
      "lhe\n",
      "deverá\n",
      "ela\n",
      "porém\n",
      "zero\n",
      "podem\n",
      "parte\n",
      "desse\n",
      "valor\n",
      "deve\n",
      "sois\n",
      "dá\n",
      "faço\n",
      "sou\n",
      "posição\n",
      "somente\n",
      "novo\n",
      "inclusive\n",
      "terceira\n",
      "pois\n",
      "aqueles\n",
      "meio\n",
      "teus\n",
      "daquele\n",
      "estou\n",
      "conhecido\n",
      "longe\n",
      "vão\n",
      "pegar\n",
      "muitos\n",
      "possível\n",
      "tudo\n",
      "seus\n",
      "caminho\n",
      "esteve\n",
      "ontem\n",
      "teu\n",
      "fará\n",
      "apoia\n",
      "tive\n",
      "vocês\n",
      "fazia\n",
      "nenhuma\n",
      "quinta\n",
      "vez\n",
      "que\n",
      "nove\n",
      "ao\n",
      "vezes\n",
      "devem\n",
      "vinte\n",
      "enquanto\n",
      "nosso\n",
      "elas\n",
      "de\n",
      "esses\n",
      "pelas\n",
      "quero\n",
      "oitavo\n",
      "ademais\n",
      "irá\n",
      "coisa\n",
      "poderá\n",
      "logo\n",
      "sexto\n",
      "também\n",
      "for\n",
      "doze\n",
      "apenas\n",
      "pouco\n",
      "todos\n",
      "dizem\n",
      "quinto\n",
      "veja\n",
      "aos\n",
      "dezanove\n",
      "cá\n",
      "fomos\n",
      "debaixo\n",
      "contra\n",
      "estado\n",
      "apoio\n",
      "todas\n",
      "tenho\n",
      "porque\n",
      "eventual\n",
      "fazes\n",
      "número\n",
      "questão\n",
      "duas\n",
      "falta\n",
      "faz\n",
      "os\n",
      "ligado\n",
      "alguns\n",
      "primeiro\n",
      "maioria\n",
      "apontar\n",
      "estas\n",
      "porquê\n",
      "bom\n",
      "me\n",
      "dezassete\n",
      "põe\n",
      "grupo\n",
      "sei\n",
      "sexta\n",
      "nível\n",
      "eu\n",
      "pelo\n",
      "era\n",
      "uns\n",
      "estás\n",
      "quarto\n",
      "foste\n",
      "bastante\n",
      "neste\n",
      "para\n",
      "fazem\n",
      "mais\n",
      "te\n",
      "ser\n",
      "disso\n",
      "minha\n",
      "mil\n",
      "umas\n",
      "isto\n",
      "algo\n",
      "usar\n",
      "ambas\n",
      "treze\n",
      "dez\n",
      "quanto\n",
      "vossas\n",
      "pela\n",
      "num\n",
      "demais\n",
      "essa\n",
      "estará\n",
      "nada\n",
      "teve\n",
      "nessa\n",
      "quem\n",
      "máximo\n",
      "sem\n",
      "naquela\n",
      "tu\n",
      "todo\n",
      "no\n",
      "sistema\n",
      "puderam\n",
      "ora\n",
      "des\n",
      "ponto\n",
      "nossa\n",
      "na\n",
      "cujo\n",
      "estiveram\n",
      "quieto\n",
      "tão\n",
      "poder\n",
      "está\n",
      "já\n",
      "diz\n",
      "fim\n",
      "através\n",
      "próxima\n",
      "tiveram\n",
      "um\n",
      "custa\n",
      "nas\n",
      "tentaram\n",
      "com\n",
      "depois\n",
      "oito\n",
      "vários\n",
      "forma\n",
      "desta\n",
      "exemplo\n",
      "possivelmente\n",
      "dar\n",
      "vêm\n",
      "além\n",
      "vinda\n",
      "às\n",
      "aí\n",
      "área\n",
      "do\n",
      "outra\n",
      "tempo\n",
      "estive\n",
      "novas\n",
      "usa\n",
      "antes\n",
      "nos\n",
      "nós\n",
      "próprio\n",
      "essas\n",
      "segunda\n",
      "oitava\n",
      "fora\n",
      "tem\n",
      "quando\n",
      "estivemos\n",
      "minhas\n",
      "vais\n",
      "temos\n",
      "foram\n",
      "outras\n",
      "da\n",
      "números\n",
      "põem\n",
      "sétimo\n",
      "próximo\n",
      "mas\n",
      "último\n",
      "tais\n",
      "é\n",
      "esta\n",
      "numa\n",
      "boa\n",
      "onze\n",
      "acerca\n",
      "geral\n",
      "o\n",
      "cuja\n",
      "fazeis\n",
      "pode\n",
      "tentar\n",
      "só\n",
      "como\n",
      "posso\n",
      "dentro\n",
      "das\n",
      "comprido\n",
      "sobre\n",
      "cento\n",
      "favor\n",
      "mesmo\n",
      "menor\n",
      "após\n",
      "tivestes\n",
      "grandes\n",
      "povo\n",
      "as\n",
      "ou\n",
      "ainda\n",
      "nossos\n",
      "certamente\n",
      "nem\n",
      "cima\n",
      "tentei\n",
      "sete\n",
      "bem\n",
      "em\n",
      "dão\n",
      "conhecida\n",
      "meu\n",
      "a\n",
      "dezoito\n",
      "ele\n",
      "este\n",
      "talvez\n",
      "sua\n",
      "menos\n",
      "foi\n",
      "podia\n"
     ]
    }
   ],
   "source": [
    "for words in nlp.Defaults.stop_words:\n",
    "    print(words)  #imprime todos os stop words do modelo"
   ]
  },
  {
   "cell_type": "code",
   "execution_count": 20,
   "id": "1b7459e5-2aef-411c-b196-f267524e70cc",
   "metadata": {},
   "outputs": [],
   "source": [
    "nlp.Defaults.stop_words.add(\"eita\")  #adiciona uma palavra a lista dos stop words\n",
    "nlp.vocab[\"eita\"].is_stop = True  #caso já tenha esta palavra no modelo definimos que é um stop words"
   ]
  },
  {
   "cell_type": "code",
   "execution_count": 21,
   "id": "4fcabd72-5e71-4402-a83b-1d1ab967b21b",
   "metadata": {},
   "outputs": [
    {
     "data": {
      "text/plain": [
       "True"
      ]
     },
     "execution_count": 21,
     "metadata": {},
     "output_type": "execute_result"
    }
   ],
   "source": [
    "nlp.vocab[\"eita\"].is_stop"
   ]
  },
  {
   "cell_type": "code",
   "execution_count": 22,
   "id": "4f65e60f-0905-4ad4-9db5-b76dda46e285",
   "metadata": {},
   "outputs": [
    {
     "name": "stdout",
     "output_type": "stream",
     "text": [
      "As ações da Magazine Luiza S.A., França, Brasil acumularam baixa de 70% ao ano. Assim já devolveram todos os ganhos do periodo da pandemia\n",
      "['As', 'ações', 'Magazine', 'Luiza', 'S.A.', ',', 'França', ',', 'Brasil', 'acumularam', 'baixa', '70', '%', 'ano', '.', 'Assim', 'devolveram', 'ganhos', 'periodo', 'pandemia']\n"
     ]
    }
   ],
   "source": [
    "token_lista = []\n",
    "for token in documento:  #cria lista com os tokens\n",
    "    token_lista.append(token.text)\n",
    "\n",
    "stop_lista = []\n",
    "for words in nlp.Defaults.stop_words: #cria lista com os stop words\n",
    "    stop_lista.append(words)\n",
    "\n",
    "semstop = [word for word in token_lista if not word in stop_lista]  # cria uma lista sem stop mediante a intersecção das listas\n",
    "\n",
    "print(documento.text)\n",
    "print(semstop)"
   ]
  },
  {
   "cell_type": "code",
   "execution_count": 23,
   "id": "a33cdd02-d0c4-4c44-89ff-d7aa48f94575",
   "metadata": {},
   "outputs": [
    {
     "name": "stdout",
     "output_type": "stream",
     "text": [
      "Hash:  6013848609874238634\n",
      "Hash:  6013848609874238634\n",
      "String:  dados\n"
     ]
    }
   ],
   "source": [
    "print(\"Hash: \", nlp.vocab.strings[\"dados\"])  #apresenta o hash que a palavra representa\n",
    "print(\"Hash: \", documento.vocab.strings[\"dados\"]) #apresenta o hash que a palavra representa\n",
    "print(\"String: \", nlp.vocab.strings[6013848609874238634]) #apresenta a palavra que o hash represent"
   ]
  },
  {
   "cell_type": "code",
   "execution_count": 24,
   "id": "c4f6e339-0892-4bdf-b7dc-367abfcb951a",
   "metadata": {},
   "outputs": [
    {
     "name": "stdout",
     "output_type": "stream",
     "text": [
      "dados  -  6013848609874238634  -  True  -  True\n"
     ]
    }
   ],
   "source": [
    "lex = nlp.vocab[\"dados\"] #atribui a lex todas as informações da palavra no vocab\n",
    "print(lex.text,\" - \",lex.orth, \" - \", lex.is_alpha, \" - \", lex.is_lower)"
   ]
  },
  {
   "cell_type": "code",
   "execution_count": 25,
   "id": "85b15677-093d-41a3-a0d7-61d9db74f3b3",
   "metadata": {},
   "outputs": [
    {
     "name": "stdout",
     "output_type": "stream",
     "text": [
      "(300,)\n",
      "[-1.8078e+00 -2.8421e+00 -5.5345e-01 -4.0565e+00 -2.3565e+00  4.7295e+00\n",
      " -3.3508e+00 -1.2036e+00 -5.3749e+00 -7.5768e-01 -2.0015e+00  5.3618e+00\n",
      "  2.2789e-01  1.2136e+00 -1.4418e+00 -3.0621e+00  2.2060e+00  1.1943e+00\n",
      " -1.8689e+00 -5.9128e+00 -5.1929e-01  2.1897e+00 -2.4651e+00  1.7600e+00\n",
      " -5.6308e+00  1.0053e+00  7.3080e-01  2.0417e-01 -6.0370e+00  1.7474e+00\n",
      "  2.0375e+00  2.7541e+00 -1.0423e+00  1.7632e+00 -1.4484e+00 -2.4344e+00\n",
      " -8.6094e-01  1.7867e+00 -4.9920e+00 -3.1162e+00 -5.3973e-01  2.4241e+00\n",
      "  4.4410e-01 -4.7503e+00  2.1383e+00  3.8537e-01 -2.2418e+00  5.8104e+00\n",
      " -1.1731e+00  2.4686e-02 -1.8413e+00 -5.9321e+00 -7.0872e-03 -2.3093e+00\n",
      "  5.5101e+00 -4.1795e-01  2.9754e+00  3.6709e-01 -8.0867e-01 -1.3751e+00\n",
      "  4.8132e+00 -2.2835e+00 -2.0920e-01  1.2578e+00  4.3466e+00  1.3846e+00\n",
      " -1.5847e+00  3.3322e+00 -4.3669e+00  1.8883e+00 -1.2312e+00  3.7902e-01\n",
      "  8.6331e-01 -4.0607e+00 -1.3444e+00  4.5210e+00  2.2995e-01 -5.9245e+00\n",
      " -2.0598e-01 -3.1810e+00 -3.8640e+00  7.2114e+00  3.1034e+00 -4.2856e+00\n",
      "  5.4147e+00 -7.2224e+00  4.3610e+00 -2.6696e+00  1.9245e+00 -2.6187e+00\n",
      " -5.1742e+00  1.0513e-01  1.9628e+00  1.0356e+00  6.8692e+00 -7.3888e-01\n",
      "  3.8783e+00  4.1958e+00 -8.8872e+00 -1.8452e+00  5.2786e+00  4.2920e+00\n",
      " -4.2204e-01  1.0009e+00  4.2165e-01  1.1927e+00 -8.4580e-01 -2.6577e+00\n",
      "  1.5024e+00  4.4229e-01 -2.5251e+00 -7.1781e-01  7.0878e-01  1.7207e+00\n",
      "  3.8369e+00 -1.5924e+00  2.0870e+00  4.3324e-01 -1.0600e+00  2.7058e+00\n",
      "  1.3282e+00 -7.1241e+00 -1.3663e+00 -3.0763e+00  2.7714e+00  1.3094e+00\n",
      "  1.6072e+00  3.6821e+00  5.3843e+00 -3.5457e-02 -2.9616e+00  1.5253e+00\n",
      "  2.0812e-01  6.0771e-01 -5.5709e-01  7.5687e+00 -9.1431e-01 -3.0477e+00\n",
      "  1.2046e+00  5.3871e-01  5.7112e-01  2.2039e+00 -5.1948e-02 -2.6353e+00\n",
      " -2.8517e+00  1.8675e-01  2.1013e+00  7.5272e-01 -8.7856e+00 -1.4493e+00\n",
      " -7.9085e-01 -1.6936e+00  1.4793e-02 -9.9357e+00  3.7818e+00 -1.7839e+00\n",
      "  1.5425e+00 -3.0899e-02 -5.1442e+00  4.2366e-01  3.2065e+00  3.9226e+00\n",
      " -1.4392e-02  1.5862e+00  7.0632e+00  7.5689e+00 -3.4420e+00 -6.1376e+00\n",
      "  5.0851e-01 -6.3689e-01 -1.8791e-01  1.9850e+00  3.0888e+00 -3.0506e+00\n",
      "  1.1851e-01 -1.2290e+00  7.6061e+00  1.8492e-01 -2.7509e+00 -1.3448e+00\n",
      "  1.9857e+00 -2.4650e+00 -2.0810e+00  5.6084e+00 -7.3379e-01  1.1205e+00\n",
      "  1.3258e-02 -7.0243e-01  1.0118e+00  3.8903e+00 -1.2631e+00 -2.7544e+00\n",
      "  9.3134e-01  2.7516e+00 -1.6767e+00  4.5501e+00 -4.9452e-01  1.0644e+00\n",
      " -1.2653e+00  3.9671e-01 -6.4705e+00 -7.7726e-01 -3.9283e+00  7.9536e+00\n",
      "  2.0967e+00  1.2104e+00  3.4474e+00 -2.2200e+00 -4.9974e+00  3.1827e-01\n",
      " -1.0450e+00 -2.1353e+00  1.0529e+00 -1.6568e+00 -3.0012e+00  4.2834e+00\n",
      "  6.9626e-01  4.5401e+00 -1.7153e-01 -5.9982e-01  3.6147e+00 -3.4545e+00\n",
      "  3.6811e-01 -4.1399e+00 -1.8144e+00  2.9088e+00  8.9164e-01 -2.4783e+00\n",
      " -3.6413e+00 -3.4140e-01 -8.0959e-01 -4.7451e+00  4.2487e+00  6.6012e+00\n",
      " -5.1022e+00  1.5260e+00  3.5160e+00 -1.4569e+00  1.4442e+00  6.8183e+00\n",
      " -5.0775e+00  1.0688e+00  4.8081e+00  3.6586e+00 -3.0766e+00 -8.5266e-01\n",
      " -3.3401e+00 -5.2864e+00 -9.1773e-01 -1.8197e+00  2.0192e+00 -6.7857e+00\n",
      " -3.6542e+00 -3.4654e+00  3.3276e+00  9.0340e-02 -3.0743e+00  3.3329e+00\n",
      " -2.6458e+00  2.6557e-02 -4.7538e-01  2.7974e+00  5.3304e+00  2.9937e+00\n",
      "  3.8899e+00 -3.3433e+00 -3.4940e+00  2.1821e+00  8.1387e+00  3.5272e-01\n",
      "  4.8159e+00 -7.8327e-01 -1.2468e+00  5.9163e+00 -6.0636e-02 -4.3255e-01\n",
      " -1.2690e+00 -3.2938e+00  3.2941e-02 -9.3676e-01 -7.1630e-01  1.4011e+00\n",
      "  1.8334e+00 -1.4261e+00 -1.9903e+00 -1.4721e+00  2.1466e+00 -2.0949e+00\n",
      " -7.6855e-01 -2.8615e+00 -2.0466e+00  7.1870e-01 -1.1195e+00 -3.1117e+00\n",
      "  1.5789e-01 -4.0320e+00 -9.2665e-01 -6.2468e-01 -2.7397e+00  6.0866e-01]\n"
     ]
    }
   ],
   "source": [
    "print(nlp(\"dados\").vector.shape) #retorna a quantide de relações que esta palavra tem\n",
    "print(nlp(\"dados\").vector)   #retorna o vetor com os pesos das relações que esta palavra tem"
   ]
  },
  {
   "cell_type": "code",
   "execution_count": 26,
   "id": "f25f8b7f-f949-4043-b285-1d72a6e235a8",
   "metadata": {},
   "outputs": [
    {
     "name": "stdout",
     "output_type": "stream",
     "text": [
      "0.8941741168014388\n",
      "0.8941741168014388\n"
     ]
    }
   ],
   "source": [
    "documento1 = nlp(\"Ele viaja regularmente de carro\")   #similaridade em doc\n",
    "documento2 = nlp(\"Ela regularmente de avião viaja\")\n",
    "print(documento1.similarity(documento2))\n",
    "print(documento2.similarity(documento1))"
   ]
  },
  {
   "cell_type": "code",
   "execution_count": 27,
   "id": "045f21e6-dd60-41c2-8151-2e11b0b8300d",
   "metadata": {},
   "outputs": [
    {
     "name": "stdout",
     "output_type": "stream",
     "text": [
      "0.5804340243339539\n"
     ]
    }
   ],
   "source": [
    "documento3 = nlp(\"Devemos dizer comprimento ou cumprimento\")  #similaridade em token\n",
    "tokenA = documento3[2]\n",
    "tokenB = documento3[4]\n",
    "print(tokenA.similarity(tokenB))"
   ]
  },
  {
   "cell_type": "code",
   "execution_count": 28,
   "id": "be87fdc6-6131-487f-9aef-a0f611a6c7fd",
   "metadata": {},
   "outputs": [
    {
     "name": "stdout",
     "output_type": "stream",
     "text": [
      "Ele pede descrição\n",
      "Ele pede discrição\n",
      "0.9630053639411926\n"
     ]
    }
   ],
   "source": [
    "documento4 = nlp(\"Ele pede descrição. Ele pede discrição\")  #similaridade em span\n",
    "parte1 = documento4[0:3]\n",
    "print(parte1)\n",
    "parte2 = documento4[4:]\n",
    "print(parte2)\n",
    "print(parte1.similarity(parte2))"
   ]
  },
  {
   "cell_type": "code",
   "execution_count": 29,
   "id": "a158d187-4c15-4ce3-90a1-10ff9ff68440",
   "metadata": {},
   "outputs": [
    {
     "name": "stdout",
     "output_type": "stream",
     "text": [
      "(51) - 9964656570\n",
      "(11) 12344988\n"
     ]
    }
   ],
   "source": [
    "from typing import Match\n",
    "from spacy.matcher import Matcher\n",
    "#inicializa\n",
    "matcher = Matcher(nlp.vocab)\n",
    "#cria uma variável que conterá o padrão para qualquer telefone \n",
    "padrao = [{\"ORTH\": \"(\"}, {\"SHAPE\": \"dd\"}, {\"ORTH\": \")\"}, {\"ORTH\": \"-\", \"OP\": \"?\"}, {\"IS_DIGIT\": True}]\n",
    "matcher.add(\"Telefone\",[padrao])  #adiciona o padrão \n",
    "\n",
    "documento5 = nlp(\"Você pode ligar para (51) - 9964656570 ou (11) 12344988\")\n",
    "\n",
    "matches = matcher(documento5)   #identifica todas as palavras que tenham o padrão descrito\n",
    "for match_id, star, end in matches:\n",
    "    print(documento5[star:end])\n"
   ]
  },
  {
   "cell_type": "code",
   "execution_count": 39,
   "id": "900239e4-b049-4bc1-8f5d-d08f044e7f21",
   "metadata": {},
   "outputs": [
    {
     "name": "stdout",
     "output_type": "stream",
     "text": [
      "micro organismos\n",
      "MICROORGANISMOS\n",
      "micro-organismos\n"
     ]
    }
   ],
   "source": [
    "documento6 = nlp(\"Estamos infectados com micro organismos. MICROORGANISMOS são perigosos. Não enxergamos micro-organismos\")\n",
    "matcher = Matcher(nlp.vocab)\n",
    "padrao1 = [{\"LOWER\": \"micro-organismos\"}]\n",
    "padrao2 = [{\"LOWER\": \"micro\"},{\"LOWER\": \"organismos\"}]\n",
    "padrao3 = [{\"LOWER\": \"microorganismos\"}]\n",
    "\n",
    "matcher.add(\"padrao\",[padrao1,padrao2,padrao3])\n",
    "\n",
    "matches = matcher(documento6)   #identifica todas as palavras que tenham o padrão descrito\n",
    "for match_id, star, end in matches:\n",
    "    print(documento6[star:end])"
   ]
  },
  {
   "cell_type": "code",
   "execution_count": 40,
   "id": "92295738-3ce7-41f0-988f-7257e0087278",
   "metadata": {},
   "outputs": [],
   "source": [
    "from spacy import displacy"
   ]
  },
  {
   "cell_type": "code",
   "execution_count": 41,
   "id": "c2df2828-91a3-4b57-b406-b1b8fcbcc825",
   "metadata": {},
   "outputs": [
    {
     "data": {
      "text/html": [
       "<span class=\"tex2jax_ignore\"><div class=\"entities\" style=\"line-height: 2.5; direction: ltr\">As ações da \n",
       "<mark class=\"entity\" style=\"background: #7aecec; padding: 0.45em 0.6em; margin: 0 0.25em; line-height: 1; border-radius: 0.35em;\">\n",
       "    Magazine Luiza S.A.\n",
       "    <span style=\"font-size: 0.8em; font-weight: bold; line-height: 1; border-radius: 0.35em; vertical-align: middle; margin-left: 0.5rem\">ORG</span>\n",
       "</mark>\n",
       ", \n",
       "<mark class=\"entity\" style=\"background: #ff9561; padding: 0.45em 0.6em; margin: 0 0.25em; line-height: 1; border-radius: 0.35em;\">\n",
       "    França\n",
       "    <span style=\"font-size: 0.8em; font-weight: bold; line-height: 1; border-radius: 0.35em; vertical-align: middle; margin-left: 0.5rem\">LOC</span>\n",
       "</mark>\n",
       ", \n",
       "<mark class=\"entity\" style=\"background: #ff9561; padding: 0.45em 0.6em; margin: 0 0.25em; line-height: 1; border-radius: 0.35em;\">\n",
       "    Brasil\n",
       "    <span style=\"font-size: 0.8em; font-weight: bold; line-height: 1; border-radius: 0.35em; vertical-align: middle; margin-left: 0.5rem\">LOC</span>\n",
       "</mark>\n",
       " acumularam baixa de 70% ao ano. Assim já devolveram todos os ganhos do periodo da pandemia</div></span>"
      ],
      "text/plain": [
       "<IPython.core.display.HTML object>"
      ]
     },
     "metadata": {},
     "output_type": "display_data"
    }
   ],
   "source": [
    "displacy.render(documento,style=\"ent\", jupyter=True)"
   ]
  },
  {
   "cell_type": "code",
   "execution_count": 47,
   "id": "37378cc6-7cc1-44a6-900d-d63ea0bfd1e8",
   "metadata": {},
   "outputs": [
    {
     "data": {
      "text/html": [
       "<span class=\"tex2jax_ignore\"><svg xmlns=\"http://www.w3.org/2000/svg\" xmlns:xlink=\"http://www.w3.org/1999/xlink\" xml:lang=\"pt\" id=\"ac5eee5f3ca94dbab7b80e4257c2e92f-0\" class=\"displacy\" width=\"1970\" height=\"297.0\" direction=\"ltr\" style=\"max-width: none; height: 297.0px; color: #0000FF; background: #000000; font-family: Arial; direction: ltr\">\n",
       "<text class=\"displacy-token\" fill=\"currentColor\" text-anchor=\"middle\" y=\"207.0\">\n",
       "    <tspan class=\"displacy-word\" fill=\"currentColor\" x=\"50\">As</tspan>\n",
       "    <tspan class=\"displacy-tag\" dy=\"2em\" fill=\"currentColor\" x=\"50\">DET</tspan>\n",
       "</text>\n",
       "\n",
       "<text class=\"displacy-token\" fill=\"currentColor\" text-anchor=\"middle\" y=\"207.0\">\n",
       "    <tspan class=\"displacy-word\" fill=\"currentColor\" x=\"130\">ações</tspan>\n",
       "    <tspan class=\"displacy-tag\" dy=\"2em\" fill=\"currentColor\" x=\"130\">NOUN</tspan>\n",
       "</text>\n",
       "\n",
       "<text class=\"displacy-token\" fill=\"currentColor\" text-anchor=\"middle\" y=\"207.0\">\n",
       "    <tspan class=\"displacy-word\" fill=\"currentColor\" x=\"210\">da</tspan>\n",
       "    <tspan class=\"displacy-tag\" dy=\"2em\" fill=\"currentColor\" x=\"210\">ADP</tspan>\n",
       "</text>\n",
       "\n",
       "<text class=\"displacy-token\" fill=\"currentColor\" text-anchor=\"middle\" y=\"207.0\">\n",
       "    <tspan class=\"displacy-word\" fill=\"currentColor\" x=\"290\">Magazine</tspan>\n",
       "    <tspan class=\"displacy-tag\" dy=\"2em\" fill=\"currentColor\" x=\"290\">PROPN</tspan>\n",
       "</text>\n",
       "\n",
       "<text class=\"displacy-token\" fill=\"currentColor\" text-anchor=\"middle\" y=\"207.0\">\n",
       "    <tspan class=\"displacy-word\" fill=\"currentColor\" x=\"370\">Luiza</tspan>\n",
       "    <tspan class=\"displacy-tag\" dy=\"2em\" fill=\"currentColor\" x=\"370\">PROPN</tspan>\n",
       "</text>\n",
       "\n",
       "<text class=\"displacy-token\" fill=\"currentColor\" text-anchor=\"middle\" y=\"207.0\">\n",
       "    <tspan class=\"displacy-word\" fill=\"currentColor\" x=\"450\">S.A.,</tspan>\n",
       "    <tspan class=\"displacy-tag\" dy=\"2em\" fill=\"currentColor\" x=\"450\">PROPN</tspan>\n",
       "</text>\n",
       "\n",
       "<text class=\"displacy-token\" fill=\"currentColor\" text-anchor=\"middle\" y=\"207.0\">\n",
       "    <tspan class=\"displacy-word\" fill=\"currentColor\" x=\"530\">França,</tspan>\n",
       "    <tspan class=\"displacy-tag\" dy=\"2em\" fill=\"currentColor\" x=\"530\">PROPN</tspan>\n",
       "</text>\n",
       "\n",
       "<text class=\"displacy-token\" fill=\"currentColor\" text-anchor=\"middle\" y=\"207.0\">\n",
       "    <tspan class=\"displacy-word\" fill=\"currentColor\" x=\"610\">Brasil</tspan>\n",
       "    <tspan class=\"displacy-tag\" dy=\"2em\" fill=\"currentColor\" x=\"610\">PROPN</tspan>\n",
       "</text>\n",
       "\n",
       "<text class=\"displacy-token\" fill=\"currentColor\" text-anchor=\"middle\" y=\"207.0\">\n",
       "    <tspan class=\"displacy-word\" fill=\"currentColor\" x=\"690\">acumularam</tspan>\n",
       "    <tspan class=\"displacy-tag\" dy=\"2em\" fill=\"currentColor\" x=\"690\">VERB</tspan>\n",
       "</text>\n",
       "\n",
       "<text class=\"displacy-token\" fill=\"currentColor\" text-anchor=\"middle\" y=\"207.0\">\n",
       "    <tspan class=\"displacy-word\" fill=\"currentColor\" x=\"770\">baixa</tspan>\n",
       "    <tspan class=\"displacy-tag\" dy=\"2em\" fill=\"currentColor\" x=\"770\">NOUN</tspan>\n",
       "</text>\n",
       "\n",
       "<text class=\"displacy-token\" fill=\"currentColor\" text-anchor=\"middle\" y=\"207.0\">\n",
       "    <tspan class=\"displacy-word\" fill=\"currentColor\" x=\"850\">de</tspan>\n",
       "    <tspan class=\"displacy-tag\" dy=\"2em\" fill=\"currentColor\" x=\"850\">ADP</tspan>\n",
       "</text>\n",
       "\n",
       "<text class=\"displacy-token\" fill=\"currentColor\" text-anchor=\"middle\" y=\"207.0\">\n",
       "    <tspan class=\"displacy-word\" fill=\"currentColor\" x=\"930\">70%</tspan>\n",
       "    <tspan class=\"displacy-tag\" dy=\"2em\" fill=\"currentColor\" x=\"930\">SYM</tspan>\n",
       "</text>\n",
       "\n",
       "<text class=\"displacy-token\" fill=\"currentColor\" text-anchor=\"middle\" y=\"207.0\">\n",
       "    <tspan class=\"displacy-word\" fill=\"currentColor\" x=\"1010\">ao</tspan>\n",
       "    <tspan class=\"displacy-tag\" dy=\"2em\" fill=\"currentColor\" x=\"1010\">ADP</tspan>\n",
       "</text>\n",
       "\n",
       "<text class=\"displacy-token\" fill=\"currentColor\" text-anchor=\"middle\" y=\"207.0\">\n",
       "    <tspan class=\"displacy-word\" fill=\"currentColor\" x=\"1090\">ano.</tspan>\n",
       "    <tspan class=\"displacy-tag\" dy=\"2em\" fill=\"currentColor\" x=\"1090\">NOUN</tspan>\n",
       "</text>\n",
       "\n",
       "<text class=\"displacy-token\" fill=\"currentColor\" text-anchor=\"middle\" y=\"207.0\">\n",
       "    <tspan class=\"displacy-word\" fill=\"currentColor\" x=\"1170\">Assim</tspan>\n",
       "    <tspan class=\"displacy-tag\" dy=\"2em\" fill=\"currentColor\" x=\"1170\">ADV</tspan>\n",
       "</text>\n",
       "\n",
       "<text class=\"displacy-token\" fill=\"currentColor\" text-anchor=\"middle\" y=\"207.0\">\n",
       "    <tspan class=\"displacy-word\" fill=\"currentColor\" x=\"1250\">já</tspan>\n",
       "    <tspan class=\"displacy-tag\" dy=\"2em\" fill=\"currentColor\" x=\"1250\">ADV</tspan>\n",
       "</text>\n",
       "\n",
       "<text class=\"displacy-token\" fill=\"currentColor\" text-anchor=\"middle\" y=\"207.0\">\n",
       "    <tspan class=\"displacy-word\" fill=\"currentColor\" x=\"1330\">devolveram</tspan>\n",
       "    <tspan class=\"displacy-tag\" dy=\"2em\" fill=\"currentColor\" x=\"1330\">VERB</tspan>\n",
       "</text>\n",
       "\n",
       "<text class=\"displacy-token\" fill=\"currentColor\" text-anchor=\"middle\" y=\"207.0\">\n",
       "    <tspan class=\"displacy-word\" fill=\"currentColor\" x=\"1410\">todos</tspan>\n",
       "    <tspan class=\"displacy-tag\" dy=\"2em\" fill=\"currentColor\" x=\"1410\">DET</tspan>\n",
       "</text>\n",
       "\n",
       "<text class=\"displacy-token\" fill=\"currentColor\" text-anchor=\"middle\" y=\"207.0\">\n",
       "    <tspan class=\"displacy-word\" fill=\"currentColor\" x=\"1490\">os</tspan>\n",
       "    <tspan class=\"displacy-tag\" dy=\"2em\" fill=\"currentColor\" x=\"1490\">DET</tspan>\n",
       "</text>\n",
       "\n",
       "<text class=\"displacy-token\" fill=\"currentColor\" text-anchor=\"middle\" y=\"207.0\">\n",
       "    <tspan class=\"displacy-word\" fill=\"currentColor\" x=\"1570\">ganhos</tspan>\n",
       "    <tspan class=\"displacy-tag\" dy=\"2em\" fill=\"currentColor\" x=\"1570\">NOUN</tspan>\n",
       "</text>\n",
       "\n",
       "<text class=\"displacy-token\" fill=\"currentColor\" text-anchor=\"middle\" y=\"207.0\">\n",
       "    <tspan class=\"displacy-word\" fill=\"currentColor\" x=\"1650\">do</tspan>\n",
       "    <tspan class=\"displacy-tag\" dy=\"2em\" fill=\"currentColor\" x=\"1650\">ADP</tspan>\n",
       "</text>\n",
       "\n",
       "<text class=\"displacy-token\" fill=\"currentColor\" text-anchor=\"middle\" y=\"207.0\">\n",
       "    <tspan class=\"displacy-word\" fill=\"currentColor\" x=\"1730\">periodo</tspan>\n",
       "    <tspan class=\"displacy-tag\" dy=\"2em\" fill=\"currentColor\" x=\"1730\">NOUN</tspan>\n",
       "</text>\n",
       "\n",
       "<text class=\"displacy-token\" fill=\"currentColor\" text-anchor=\"middle\" y=\"207.0\">\n",
       "    <tspan class=\"displacy-word\" fill=\"currentColor\" x=\"1810\">da</tspan>\n",
       "    <tspan class=\"displacy-tag\" dy=\"2em\" fill=\"currentColor\" x=\"1810\">ADP</tspan>\n",
       "</text>\n",
       "\n",
       "<text class=\"displacy-token\" fill=\"currentColor\" text-anchor=\"middle\" y=\"207.0\">\n",
       "    <tspan class=\"displacy-word\" fill=\"currentColor\" x=\"1890\">pandemia</tspan>\n",
       "    <tspan class=\"displacy-tag\" dy=\"2em\" fill=\"currentColor\" x=\"1890\">NOUN</tspan>\n",
       "</text>\n",
       "\n",
       "<g class=\"displacy-arrow\">\n",
       "    <path class=\"displacy-arc\" id=\"arrow-ac5eee5f3ca94dbab7b80e4257c2e92f-0-0\" stroke-width=\"2px\" d=\"M62,162.0 62,148.66666666666666 121.0,148.66666666666666 121.0,162.0\" fill=\"none\" stroke=\"currentColor\"/>\n",
       "    <text dy=\"1.25em\" style=\"font-size: 0.8em; letter-spacing: 1px\">\n",
       "        <textPath xlink:href=\"#arrow-ac5eee5f3ca94dbab7b80e4257c2e92f-0-0\" class=\"displacy-label\" startOffset=\"50%\" side=\"left\" fill=\"currentColor\" text-anchor=\"middle\">det</textPath>\n",
       "    </text>\n",
       "    <path class=\"displacy-arrowhead\" d=\"M62,164.0 L58,156.0 66,156.0\" fill=\"currentColor\"/>\n",
       "</g>\n",
       "\n",
       "<g class=\"displacy-arrow\">\n",
       "    <path class=\"displacy-arc\" id=\"arrow-ac5eee5f3ca94dbab7b80e4257c2e92f-0-1\" stroke-width=\"2px\" d=\"M142,162.0 142,108.66666666666666 690.0,108.66666666666666 690.0,162.0\" fill=\"none\" stroke=\"currentColor\"/>\n",
       "    <text dy=\"1.25em\" style=\"font-size: 0.8em; letter-spacing: 1px\">\n",
       "        <textPath xlink:href=\"#arrow-ac5eee5f3ca94dbab7b80e4257c2e92f-0-1\" class=\"displacy-label\" startOffset=\"50%\" side=\"left\" fill=\"currentColor\" text-anchor=\"middle\">nsubj</textPath>\n",
       "    </text>\n",
       "    <path class=\"displacy-arrowhead\" d=\"M142,164.0 L138,156.0 146,156.0\" fill=\"currentColor\"/>\n",
       "</g>\n",
       "\n",
       "<g class=\"displacy-arrow\">\n",
       "    <path class=\"displacy-arc\" id=\"arrow-ac5eee5f3ca94dbab7b80e4257c2e92f-0-2\" stroke-width=\"2px\" d=\"M222,162.0 222,148.66666666666666 281.0,148.66666666666666 281.0,162.0\" fill=\"none\" stroke=\"currentColor\"/>\n",
       "    <text dy=\"1.25em\" style=\"font-size: 0.8em; letter-spacing: 1px\">\n",
       "        <textPath xlink:href=\"#arrow-ac5eee5f3ca94dbab7b80e4257c2e92f-0-2\" class=\"displacy-label\" startOffset=\"50%\" side=\"left\" fill=\"currentColor\" text-anchor=\"middle\">case</textPath>\n",
       "    </text>\n",
       "    <path class=\"displacy-arrowhead\" d=\"M222,164.0 L218,156.0 226,156.0\" fill=\"currentColor\"/>\n",
       "</g>\n",
       "\n",
       "<g class=\"displacy-arrow\">\n",
       "    <path class=\"displacy-arc\" id=\"arrow-ac5eee5f3ca94dbab7b80e4257c2e92f-0-3\" stroke-width=\"2px\" d=\"M142,162.0 142,135.33333333333334 284.0,135.33333333333334 284.0,162.0\" fill=\"none\" stroke=\"currentColor\"/>\n",
       "    <text dy=\"1.25em\" style=\"font-size: 0.8em; letter-spacing: 1px\">\n",
       "        <textPath xlink:href=\"#arrow-ac5eee5f3ca94dbab7b80e4257c2e92f-0-3\" class=\"displacy-label\" startOffset=\"50%\" side=\"left\" fill=\"currentColor\" text-anchor=\"middle\">nmod</textPath>\n",
       "    </text>\n",
       "    <path class=\"displacy-arrowhead\" d=\"M284.0,164.0 L288.0,156.0 280.0,156.0\" fill=\"currentColor\"/>\n",
       "</g>\n",
       "\n",
       "<g class=\"displacy-arrow\">\n",
       "    <path class=\"displacy-arc\" id=\"arrow-ac5eee5f3ca94dbab7b80e4257c2e92f-0-4\" stroke-width=\"2px\" d=\"M302,162.0 302,148.66666666666666 361.0,148.66666666666666 361.0,162.0\" fill=\"none\" stroke=\"currentColor\"/>\n",
       "    <text dy=\"1.25em\" style=\"font-size: 0.8em; letter-spacing: 1px\">\n",
       "        <textPath xlink:href=\"#arrow-ac5eee5f3ca94dbab7b80e4257c2e92f-0-4\" class=\"displacy-label\" startOffset=\"50%\" side=\"left\" fill=\"currentColor\" text-anchor=\"middle\">appos</textPath>\n",
       "    </text>\n",
       "    <path class=\"displacy-arrowhead\" d=\"M361.0,164.0 L365.0,156.0 357.0,156.0\" fill=\"currentColor\"/>\n",
       "</g>\n",
       "\n",
       "<g class=\"displacy-arrow\">\n",
       "    <path class=\"displacy-arc\" id=\"arrow-ac5eee5f3ca94dbab7b80e4257c2e92f-0-5\" stroke-width=\"2px\" d=\"M302,162.0 302,135.33333333333334 444.0,135.33333333333334 444.0,162.0\" fill=\"none\" stroke=\"currentColor\"/>\n",
       "    <text dy=\"1.25em\" style=\"font-size: 0.8em; letter-spacing: 1px\">\n",
       "        <textPath xlink:href=\"#arrow-ac5eee5f3ca94dbab7b80e4257c2e92f-0-5\" class=\"displacy-label\" startOffset=\"50%\" side=\"left\" fill=\"currentColor\" text-anchor=\"middle\">flat:name</textPath>\n",
       "    </text>\n",
       "    <path class=\"displacy-arrowhead\" d=\"M444.0,164.0 L448.0,156.0 440.0,156.0\" fill=\"currentColor\"/>\n",
       "</g>\n",
       "\n",
       "<g class=\"displacy-arrow\">\n",
       "    <path class=\"displacy-arc\" id=\"arrow-ac5eee5f3ca94dbab7b80e4257c2e92f-0-6\" stroke-width=\"2px\" d=\"M302,162.0 302,122.0 527.0,122.0 527.0,162.0\" fill=\"none\" stroke=\"currentColor\"/>\n",
       "    <text dy=\"1.25em\" style=\"font-size: 0.8em; letter-spacing: 1px\">\n",
       "        <textPath xlink:href=\"#arrow-ac5eee5f3ca94dbab7b80e4257c2e92f-0-6\" class=\"displacy-label\" startOffset=\"50%\" side=\"left\" fill=\"currentColor\" text-anchor=\"middle\">conj</textPath>\n",
       "    </text>\n",
       "    <path class=\"displacy-arrowhead\" d=\"M527.0,164.0 L531.0,156.0 523.0,156.0\" fill=\"currentColor\"/>\n",
       "</g>\n",
       "\n",
       "<g class=\"displacy-arrow\">\n",
       "    <path class=\"displacy-arc\" id=\"arrow-ac5eee5f3ca94dbab7b80e4257c2e92f-0-7\" stroke-width=\"2px\" d=\"M622,162.0 622,148.66666666666666 681.0,148.66666666666666 681.0,162.0\" fill=\"none\" stroke=\"currentColor\"/>\n",
       "    <text dy=\"1.25em\" style=\"font-size: 0.8em; letter-spacing: 1px\">\n",
       "        <textPath xlink:href=\"#arrow-ac5eee5f3ca94dbab7b80e4257c2e92f-0-7\" class=\"displacy-label\" startOffset=\"50%\" side=\"left\" fill=\"currentColor\" text-anchor=\"middle\">nsubj</textPath>\n",
       "    </text>\n",
       "    <path class=\"displacy-arrowhead\" d=\"M622,164.0 L618,156.0 626,156.0\" fill=\"currentColor\"/>\n",
       "</g>\n",
       "\n",
       "<g class=\"displacy-arrow\">\n",
       "    <path class=\"displacy-arc\" id=\"arrow-ac5eee5f3ca94dbab7b80e4257c2e92f-0-8\" stroke-width=\"2px\" d=\"M702,162.0 702,148.66666666666666 761.0,148.66666666666666 761.0,162.0\" fill=\"none\" stroke=\"currentColor\"/>\n",
       "    <text dy=\"1.25em\" style=\"font-size: 0.8em; letter-spacing: 1px\">\n",
       "        <textPath xlink:href=\"#arrow-ac5eee5f3ca94dbab7b80e4257c2e92f-0-8\" class=\"displacy-label\" startOffset=\"50%\" side=\"left\" fill=\"currentColor\" text-anchor=\"middle\">obj</textPath>\n",
       "    </text>\n",
       "    <path class=\"displacy-arrowhead\" d=\"M761.0,164.0 L765.0,156.0 757.0,156.0\" fill=\"currentColor\"/>\n",
       "</g>\n",
       "\n",
       "<g class=\"displacy-arrow\">\n",
       "    <path class=\"displacy-arc\" id=\"arrow-ac5eee5f3ca94dbab7b80e4257c2e92f-0-9\" stroke-width=\"2px\" d=\"M862,162.0 862,148.66666666666666 921.0,148.66666666666666 921.0,162.0\" fill=\"none\" stroke=\"currentColor\"/>\n",
       "    <text dy=\"1.25em\" style=\"font-size: 0.8em; letter-spacing: 1px\">\n",
       "        <textPath xlink:href=\"#arrow-ac5eee5f3ca94dbab7b80e4257c2e92f-0-9\" class=\"displacy-label\" startOffset=\"50%\" side=\"left\" fill=\"currentColor\" text-anchor=\"middle\">case</textPath>\n",
       "    </text>\n",
       "    <path class=\"displacy-arrowhead\" d=\"M862,164.0 L858,156.0 866,156.0\" fill=\"currentColor\"/>\n",
       "</g>\n",
       "\n",
       "<g class=\"displacy-arrow\">\n",
       "    <path class=\"displacy-arc\" id=\"arrow-ac5eee5f3ca94dbab7b80e4257c2e92f-0-10\" stroke-width=\"2px\" d=\"M782,162.0 782,135.33333333333334 924.0,135.33333333333334 924.0,162.0\" fill=\"none\" stroke=\"currentColor\"/>\n",
       "    <text dy=\"1.25em\" style=\"font-size: 0.8em; letter-spacing: 1px\">\n",
       "        <textPath xlink:href=\"#arrow-ac5eee5f3ca94dbab7b80e4257c2e92f-0-10\" class=\"displacy-label\" startOffset=\"50%\" side=\"left\" fill=\"currentColor\" text-anchor=\"middle\">nmod</textPath>\n",
       "    </text>\n",
       "    <path class=\"displacy-arrowhead\" d=\"M924.0,164.0 L928.0,156.0 920.0,156.0\" fill=\"currentColor\"/>\n",
       "</g>\n",
       "\n",
       "<g class=\"displacy-arrow\">\n",
       "    <path class=\"displacy-arc\" id=\"arrow-ac5eee5f3ca94dbab7b80e4257c2e92f-0-11\" stroke-width=\"2px\" d=\"M1022,162.0 1022,148.66666666666666 1081.0,148.66666666666666 1081.0,162.0\" fill=\"none\" stroke=\"currentColor\"/>\n",
       "    <text dy=\"1.25em\" style=\"font-size: 0.8em; letter-spacing: 1px\">\n",
       "        <textPath xlink:href=\"#arrow-ac5eee5f3ca94dbab7b80e4257c2e92f-0-11\" class=\"displacy-label\" startOffset=\"50%\" side=\"left\" fill=\"currentColor\" text-anchor=\"middle\">case</textPath>\n",
       "    </text>\n",
       "    <path class=\"displacy-arrowhead\" d=\"M1022,164.0 L1018,156.0 1026,156.0\" fill=\"currentColor\"/>\n",
       "</g>\n",
       "\n",
       "<g class=\"displacy-arrow\">\n",
       "    <path class=\"displacy-arc\" id=\"arrow-ac5eee5f3ca94dbab7b80e4257c2e92f-0-12\" stroke-width=\"2px\" d=\"M782,162.0 782,122.0 1087.0,122.0 1087.0,162.0\" fill=\"none\" stroke=\"currentColor\"/>\n",
       "    <text dy=\"1.25em\" style=\"font-size: 0.8em; letter-spacing: 1px\">\n",
       "        <textPath xlink:href=\"#arrow-ac5eee5f3ca94dbab7b80e4257c2e92f-0-12\" class=\"displacy-label\" startOffset=\"50%\" side=\"left\" fill=\"currentColor\" text-anchor=\"middle\">nmod</textPath>\n",
       "    </text>\n",
       "    <path class=\"displacy-arrowhead\" d=\"M1087.0,164.0 L1091.0,156.0 1083.0,156.0\" fill=\"currentColor\"/>\n",
       "</g>\n",
       "\n",
       "<g class=\"displacy-arrow\">\n",
       "    <path class=\"displacy-arc\" id=\"arrow-ac5eee5f3ca94dbab7b80e4257c2e92f-0-13\" stroke-width=\"2px\" d=\"M1182,162.0 1182,135.33333333333334 1324.0,135.33333333333334 1324.0,162.0\" fill=\"none\" stroke=\"currentColor\"/>\n",
       "    <text dy=\"1.25em\" style=\"font-size: 0.8em; letter-spacing: 1px\">\n",
       "        <textPath xlink:href=\"#arrow-ac5eee5f3ca94dbab7b80e4257c2e92f-0-13\" class=\"displacy-label\" startOffset=\"50%\" side=\"left\" fill=\"currentColor\" text-anchor=\"middle\">advmod</textPath>\n",
       "    </text>\n",
       "    <path class=\"displacy-arrowhead\" d=\"M1182,164.0 L1178,156.0 1186,156.0\" fill=\"currentColor\"/>\n",
       "</g>\n",
       "\n",
       "<g class=\"displacy-arrow\">\n",
       "    <path class=\"displacy-arc\" id=\"arrow-ac5eee5f3ca94dbab7b80e4257c2e92f-0-14\" stroke-width=\"2px\" d=\"M1262,162.0 1262,148.66666666666666 1321.0,148.66666666666666 1321.0,162.0\" fill=\"none\" stroke=\"currentColor\"/>\n",
       "    <text dy=\"1.25em\" style=\"font-size: 0.8em; letter-spacing: 1px\">\n",
       "        <textPath xlink:href=\"#arrow-ac5eee5f3ca94dbab7b80e4257c2e92f-0-14\" class=\"displacy-label\" startOffset=\"50%\" side=\"left\" fill=\"currentColor\" text-anchor=\"middle\">advmod</textPath>\n",
       "    </text>\n",
       "    <path class=\"displacy-arrowhead\" d=\"M1262,164.0 L1258,156.0 1266,156.0\" fill=\"currentColor\"/>\n",
       "</g>\n",
       "\n",
       "<g class=\"displacy-arrow\">\n",
       "    <path class=\"displacy-arc\" id=\"arrow-ac5eee5f3ca94dbab7b80e4257c2e92f-0-15\" stroke-width=\"2px\" d=\"M1422,162.0 1422,135.33333333333334 1564.0,135.33333333333334 1564.0,162.0\" fill=\"none\" stroke=\"currentColor\"/>\n",
       "    <text dy=\"1.25em\" style=\"font-size: 0.8em; letter-spacing: 1px\">\n",
       "        <textPath xlink:href=\"#arrow-ac5eee5f3ca94dbab7b80e4257c2e92f-0-15\" class=\"displacy-label\" startOffset=\"50%\" side=\"left\" fill=\"currentColor\" text-anchor=\"middle\">det</textPath>\n",
       "    </text>\n",
       "    <path class=\"displacy-arrowhead\" d=\"M1422,164.0 L1418,156.0 1426,156.0\" fill=\"currentColor\"/>\n",
       "</g>\n",
       "\n",
       "<g class=\"displacy-arrow\">\n",
       "    <path class=\"displacy-arc\" id=\"arrow-ac5eee5f3ca94dbab7b80e4257c2e92f-0-16\" stroke-width=\"2px\" d=\"M1502,162.0 1502,148.66666666666666 1561.0,148.66666666666666 1561.0,162.0\" fill=\"none\" stroke=\"currentColor\"/>\n",
       "    <text dy=\"1.25em\" style=\"font-size: 0.8em; letter-spacing: 1px\">\n",
       "        <textPath xlink:href=\"#arrow-ac5eee5f3ca94dbab7b80e4257c2e92f-0-16\" class=\"displacy-label\" startOffset=\"50%\" side=\"left\" fill=\"currentColor\" text-anchor=\"middle\">det</textPath>\n",
       "    </text>\n",
       "    <path class=\"displacy-arrowhead\" d=\"M1502,164.0 L1498,156.0 1506,156.0\" fill=\"currentColor\"/>\n",
       "</g>\n",
       "\n",
       "<g class=\"displacy-arrow\">\n",
       "    <path class=\"displacy-arc\" id=\"arrow-ac5eee5f3ca94dbab7b80e4257c2e92f-0-17\" stroke-width=\"2px\" d=\"M1342,162.0 1342,122.0 1567.0,122.0 1567.0,162.0\" fill=\"none\" stroke=\"currentColor\"/>\n",
       "    <text dy=\"1.25em\" style=\"font-size: 0.8em; letter-spacing: 1px\">\n",
       "        <textPath xlink:href=\"#arrow-ac5eee5f3ca94dbab7b80e4257c2e92f-0-17\" class=\"displacy-label\" startOffset=\"50%\" side=\"left\" fill=\"currentColor\" text-anchor=\"middle\">obj</textPath>\n",
       "    </text>\n",
       "    <path class=\"displacy-arrowhead\" d=\"M1567.0,164.0 L1571.0,156.0 1563.0,156.0\" fill=\"currentColor\"/>\n",
       "</g>\n",
       "\n",
       "<g class=\"displacy-arrow\">\n",
       "    <path class=\"displacy-arc\" id=\"arrow-ac5eee5f3ca94dbab7b80e4257c2e92f-0-18\" stroke-width=\"2px\" d=\"M1662,162.0 1662,148.66666666666666 1721.0,148.66666666666666 1721.0,162.0\" fill=\"none\" stroke=\"currentColor\"/>\n",
       "    <text dy=\"1.25em\" style=\"font-size: 0.8em; letter-spacing: 1px\">\n",
       "        <textPath xlink:href=\"#arrow-ac5eee5f3ca94dbab7b80e4257c2e92f-0-18\" class=\"displacy-label\" startOffset=\"50%\" side=\"left\" fill=\"currentColor\" text-anchor=\"middle\">case</textPath>\n",
       "    </text>\n",
       "    <path class=\"displacy-arrowhead\" d=\"M1662,164.0 L1658,156.0 1666,156.0\" fill=\"currentColor\"/>\n",
       "</g>\n",
       "\n",
       "<g class=\"displacy-arrow\">\n",
       "    <path class=\"displacy-arc\" id=\"arrow-ac5eee5f3ca94dbab7b80e4257c2e92f-0-19\" stroke-width=\"2px\" d=\"M1582,162.0 1582,135.33333333333334 1724.0,135.33333333333334 1724.0,162.0\" fill=\"none\" stroke=\"currentColor\"/>\n",
       "    <text dy=\"1.25em\" style=\"font-size: 0.8em; letter-spacing: 1px\">\n",
       "        <textPath xlink:href=\"#arrow-ac5eee5f3ca94dbab7b80e4257c2e92f-0-19\" class=\"displacy-label\" startOffset=\"50%\" side=\"left\" fill=\"currentColor\" text-anchor=\"middle\">nmod</textPath>\n",
       "    </text>\n",
       "    <path class=\"displacy-arrowhead\" d=\"M1724.0,164.0 L1728.0,156.0 1720.0,156.0\" fill=\"currentColor\"/>\n",
       "</g>\n",
       "\n",
       "<g class=\"displacy-arrow\">\n",
       "    <path class=\"displacy-arc\" id=\"arrow-ac5eee5f3ca94dbab7b80e4257c2e92f-0-20\" stroke-width=\"2px\" d=\"M1822,162.0 1822,148.66666666666666 1881.0,148.66666666666666 1881.0,162.0\" fill=\"none\" stroke=\"currentColor\"/>\n",
       "    <text dy=\"1.25em\" style=\"font-size: 0.8em; letter-spacing: 1px\">\n",
       "        <textPath xlink:href=\"#arrow-ac5eee5f3ca94dbab7b80e4257c2e92f-0-20\" class=\"displacy-label\" startOffset=\"50%\" side=\"left\" fill=\"currentColor\" text-anchor=\"middle\">case</textPath>\n",
       "    </text>\n",
       "    <path class=\"displacy-arrowhead\" d=\"M1822,164.0 L1818,156.0 1826,156.0\" fill=\"currentColor\"/>\n",
       "</g>\n",
       "\n",
       "<g class=\"displacy-arrow\">\n",
       "    <path class=\"displacy-arc\" id=\"arrow-ac5eee5f3ca94dbab7b80e4257c2e92f-0-21\" stroke-width=\"2px\" d=\"M1742,162.0 1742,135.33333333333334 1884.0,135.33333333333334 1884.0,162.0\" fill=\"none\" stroke=\"currentColor\"/>\n",
       "    <text dy=\"1.25em\" style=\"font-size: 0.8em; letter-spacing: 1px\">\n",
       "        <textPath xlink:href=\"#arrow-ac5eee5f3ca94dbab7b80e4257c2e92f-0-21\" class=\"displacy-label\" startOffset=\"50%\" side=\"left\" fill=\"currentColor\" text-anchor=\"middle\">nmod</textPath>\n",
       "    </text>\n",
       "    <path class=\"displacy-arrowhead\" d=\"M1884.0,164.0 L1888.0,156.0 1880.0,156.0\" fill=\"currentColor\"/>\n",
       "</g>\n",
       "</svg></span>"
      ],
      "text/plain": [
       "<IPython.core.display.HTML object>"
      ]
     },
     "metadata": {},
     "output_type": "display_data"
    }
   ],
   "source": [
    "displacy.render(documento,style=\"dep\", jupyter=True,\n",
    "               options={'compact':True,'distance':80, 'color':'#0000FF', 'bg':'#000000'}) #podem sera alteradas algumas modificações "
   ]
  },
  {
   "cell_type": "code",
   "execution_count": null,
   "id": "95b0b301-0705-4f19-bdb9-e3d135a262d4",
   "metadata": {},
   "outputs": [],
   "source": []
  }
 ],
 "metadata": {
  "kernelspec": {
   "display_name": "Python 3 (ipykernel)",
   "language": "python",
   "name": "python3"
  },
  "language_info": {
   "codemirror_mode": {
    "name": "ipython",
    "version": 3
   },
   "file_extension": ".py",
   "mimetype": "text/x-python",
   "name": "python",
   "nbconvert_exporter": "python",
   "pygments_lexer": "ipython3",
   "version": "3.11.9"
  }
 },
 "nbformat": 4,
 "nbformat_minor": 5
}
